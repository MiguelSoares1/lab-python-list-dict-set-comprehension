{
 "cells": [
  {
   "cell_type": "markdown",
   "id": "25d7736c-ba17-4aff-b6bb-66eba20fbf4e",
   "metadata": {},
   "source": [
    "# Lab | List, Dict and Set Comprehension"
   ]
  },
  {
   "cell_type": "markdown",
   "id": "7dd3cbde-675a-4b81-92c3-f728846dbe06",
   "metadata": {},
   "source": [
    "## Exercise: Managing Customer Orders Optimized with Comprehension"
   ]
  },
  {
   "cell_type": "markdown",
   "id": "5d500160-2fb7-4777-b5e4-09d45ebaf328",
   "metadata": {},
   "source": [
    "In the previous exercise, you developed a program to manage customer orders and inventory. Now, let's take it a step further and incorporate comprehension into your code.\n",
    "\n",
    "Follow the steps below to complete the exercise:\n",
    "\n",
    "1. Review your code from the previous exercise and identify areas where you can apply comprehension to simplify and streamline your code. \n",
    "\n",
    "    - *Hint: Apply it to initialize inventory, updating the inventory and printing the updated inventory.*\n",
    "    \n",
    "    - For example, in initializing the inventory, we could have:\n",
    "    \n",
    "        ```python\n",
    "        def initialize_inventory(products):\n",
    "            inventory = {product: int(input(f\"Enter the quantity of {product}s available: \")) for product in products}\n",
    "            return inventory\n",
    "\n",
    "        ```\n",
    "<br>\n",
    "    \n",
    "    \n",
    "2. Modify the function get_customer_orders so it prompts the user to enter the number of customer orders and gathers the product names using a loop and user input. Use comprehension.\n",
    "\n",
    "3. Add a new function to calculate the total price of the customer order. For each product in customer_orders, prompt the user to enter the price of that product. Use comprehension to calculate the total price. Note: assume that the user can only have 1 unit of each product.\n",
    "\n",
    "4. Modify the update_inventory function to remove the product from the inventory if its quantity becomes zero after fulfilling the customer orders. Use comprehension to filter out the products with a quantity of zero from the inventory.\n",
    "\n",
    "5. Print the total price of the customer order.\n",
    "\n",
    "Your code should produce output similar to the following:\n",
    "\n",
    "```python\n",
    "Enter the quantity of t-shirts available:  5\n",
    "Enter the quantity of mugs available:  4\n",
    "Enter the quantity of hats available:  3\n",
    "Enter the quantity of books available:  2\n",
    "Enter the quantity of keychains available:  1\n",
    "Enter the number of customer orders:  2\n",
    "Enter the name of a product that a customer wants to order:  hat\n",
    "Enter the name of a product that a customer wants to order:  keychain\n",
    "\n",
    "Order Statistics:\n",
    "Total Products Ordered: 2\n",
    "Percentage of Unique Products Ordered: 40.0\n",
    "\n",
    "Updated Inventory:\n",
    "t-shirt: 5\n",
    "mug: 4\n",
    "hat: 2\n",
    "book: 2\n",
    "Enter the price of keychain:  5\n",
    "Enter the price of hat:  10\n",
    "Total Price: 15.0\n",
    "\n",
    "```\n"
   ]
  },
  {
   "cell_type": "markdown",
   "id": "f1645ea8-7794-4c88-ae4b-c54db6505255",
   "metadata": {},
   "source": [
    "1. Review your code from the previous exercise and identify areas where you can apply comprehension to simplify and streamline your code. \n",
    "\n",
    "    - *Hint: Apply it to initialize inventory, updating the inventory and printing the updated inventory.*\n",
    "    \n",
    "    - For example, in initializing the inventory, we could have:\n",
    "    \n",
    "        ```python\n",
    "        def initialize_inventory(products):\n",
    "            inventory = {product: int(input(f\"Enter the quantity of {product}s available: \")) for product in products}\n",
    "            return inventory\n",
    "\n",
    "        ```\n",
    "<br>\n",
    "    "
   ]
  },
  {
   "cell_type": "markdown",
   "id": "b9f7b523-80eb-4f03-812b-287376508c89",
   "metadata": {},
   "source": [
    "### 1 Define list of products"
   ]
  },
  {
   "cell_type": "code",
   "execution_count": 10,
   "id": "1f74894e-bdac-4840-99c8-4f0208181b84",
   "metadata": {},
   "outputs": [],
   "source": [
    "products = [\"T-shirt\", \"Mug\", \"Hat\", \"Book\", \"Keychain\"]"
   ]
  },
  {
   "cell_type": "markdown",
   "id": "b2bc5e22-6f09-42ef-9ea9-904c92177a26",
   "metadata": {},
   "source": [
    "1. Review your code from the previous exercise and identify areas where you can apply comprehension to simplify and streamline your code. \n",
    "\n",
    "    - *Hint: Apply it to initialize inventory, updating the inventory and printing the updated inventory.*"
   ]
  },
  {
   "cell_type": "code",
   "execution_count": 13,
   "id": "62c52b95-bea3-4f86-8437-9c3482c7cac6",
   "metadata": {},
   "outputs": [],
   "source": [
    "def initialize_inventory(products):\n",
    "    inventory = {product: int(input(f\"Enter the quantity of {product}s available: \")) \n",
    "for product in products}\n",
    "    return inventory"
   ]
  },
  {
   "cell_type": "code",
   "execution_count": 15,
   "id": "a35653b6-a32a-44a8-b58c-57b204fd6067",
   "metadata": {},
   "outputs": [],
   "source": [
    "def update_inventory(customer_orders, inventory):\n",
    "    return {\n",
    "        item: quantity - 1 if item in customer_orders else quantity\n",
    "        for item, quantity in inventory.items()\n",
    "    }"
   ]
  },
  {
   "cell_type": "code",
   "execution_count": 17,
   "id": "b717961d-8c1b-4b8d-bf54-a29de1e256da",
   "metadata": {},
   "outputs": [],
   "source": [
    "def print_updated_inventory(inventory):\n",
    "    print(\"Updated Inventory:\")\n",
    "    [print(f\"{product}: {quantity}\") for product, quantity in inventory.items()]"
   ]
  },
  {
   "cell_type": "markdown",
   "id": "f00d35e1-04cf-4e27-a5e9-97b3471f1e54",
   "metadata": {},
   "source": [
    "2. Modify the function get_customer_orders so it prompts the user to enter the number of customer orders and gathers the product names using a loop and user input. Use comprehension.\n"
   ]
  },
  {
   "cell_type": "code",
   "execution_count": 43,
   "id": "c7f73ef4-c481-475e-9390-30f43d115b03",
   "metadata": {},
   "outputs": [],
   "source": [
    "def get_customer_orders(products):\n",
    "    n = int(input(\"How many items would you like to order? \"))\n",
    "    orders = {input(\"Insert one of the items: T-shirt, Mug, Hat, Book, Keychain: \").strip().lower()\n",
    "              for _ in range(n)}\n",
    "    valid_orders = {item for item in orders if item in products}\n",
    "    invalid = orders - valid_orders\n",
    "    for item in invalid:\n",
    "        print(f\"{item} was not a valid item!\")\n",
    "    return valid_orders\n"
   ]
  },
  {
   "cell_type": "code",
   "execution_count": 22,
   "id": "9426f265-dc15-470c-baf4-c742b35fc400",
   "metadata": {},
   "outputs": [
    {
     "name": "stdin",
     "output_type": "stream",
     "text": [
      "How many items would you like to order?  2\n",
      "Insert one of the items: T-shirt, Mug, Hat, Book, Keychain:  hat\n",
      "Insert one of the items: T-shirt, Mug, Hat, Book, Keychain:  mug\n"
     ]
    }
   ],
   "source": [
    "customer_orders =  get_customer_orders(products)"
   ]
  },
  {
   "cell_type": "markdown",
   "id": "e74474e4-1d1b-4ed0-b87c-4b4991bd08b8",
   "metadata": {},
   "source": [
    "### 3. Add a new function to calculate the total price of the customer order. For each product in customer_orders, prompt the user to enter the price of that product. Use comprehension to calculate the total price. Note: assume that the user can only have 1 unit of each product."
   ]
  },
  {
   "cell_type": "code",
   "execution_count": 24,
   "id": "a705e4f9-e3c4-4ba6-9485-b032ead6c0c4",
   "metadata": {},
   "outputs": [],
   "source": [
    "def total_price_of_customer(customer_orders): \n",
    "    total_price = sum(float(input(\"Enter the price for each item: \")) for _ in range(len(customer_orders)))\n",
    "    return total_price\n"
   ]
  },
  {
   "cell_type": "code",
   "execution_count": 26,
   "id": "7a0d9826-db3e-48b6-891c-885bec0fe1bc",
   "metadata": {},
   "outputs": [
    {
     "name": "stdin",
     "output_type": "stream",
     "text": [
      "Enter the price for each item:  10\n",
      "Enter the price for each item:  24\n"
     ]
    }
   ],
   "source": [
    "total_price = total_price_of_customer(customer_orders)"
   ]
  },
  {
   "cell_type": "markdown",
   "id": "e2b8a57b-84ff-40da-9ea4-239b2c2bf977",
   "metadata": {},
   "source": [
    "### 4. Modify the update_inventory function to remove the product from the inventory if its quantity becomes zero after fulfilling the customer orders. Use comprehension to filter out the products with a quantity of zero from the inventory. "
   ]
  },
  {
   "cell_type": "code",
   "execution_count": 28,
   "id": "bce50a54-a848-4642-9fd2-2f521fb50e9b",
   "metadata": {},
   "outputs": [],
   "source": [
    "def update_inventory(customer_orders, inventory):\n",
    "    for item in customer_orders:\n",
    "        if item in inventory:\n",
    "            inventory[item] -= 1\n",
    "    # Remove items with quantity 0\n",
    "    inventory = {item: qty for item, qty in inventory.items() if qty > 0}\n",
    "    return inventory"
   ]
  },
  {
   "cell_type": "markdown",
   "id": "a42bb69a-7a97-413b-b5b0-6634af39ca44",
   "metadata": {},
   "source": [
    "### 5. Print the total price of the customer order."
   ]
  },
  {
   "cell_type": "code",
   "execution_count": 31,
   "id": "0eb6b5a3-c9d7-4268-b7a5-f0ef494ebf89",
   "metadata": {},
   "outputs": [
    {
     "name": "stdout",
     "output_type": "stream",
     "text": [
      "34.0\n"
     ]
    }
   ],
   "source": [
    "print(total_price)"
   ]
  },
  {
   "cell_type": "markdown",
   "id": "c025f614-38ca-44d2-81af-b179b4c5a4f8",
   "metadata": {},
   "source": [
    "\n",
    "```python\n",
    "Enter the quantity of t-shirts available:  5\n",
    "Enter the quantity of mugs available:  4\n",
    "Enter the quantity of hats available:  3\n",
    "Enter the quantity of books available:  2\n",
    "Enter the quantity of keychains available:  1\n",
    "Enter the number of customer orders:  2\n",
    "Enter the name of a product that a customer wants to order:  hat\n",
    "Enter the name of a product that a customer wants to order:  keychain\n",
    "\n",
    "Order Statistics:\n",
    "Total Products Ordered: 2\n",
    "Percentage of Unique Products Ordered: 40.0\n",
    "\n",
    "Updated Inventory:\n",
    "t-shirt: 5\n",
    "mug: 4\n",
    "hat: 2\n",
    "book: 2\n",
    "Enter the price of keychain:  5\n",
    "Enter the price of hat:  10\n",
    "Total Price: 15.0\n",
    "\n",
    "```"
   ]
  },
  {
   "cell_type": "code",
   "execution_count": 4,
   "id": "31cd6a0b-6a01-4bbb-b57d-cd719d7c824f",
   "metadata": {},
   "outputs": [],
   "source": [
    "def calculate_order_statistics(customer_orders, products):\n",
    "    total_ordered = len(customer_orders)\n",
    "    percentage_ordered = (total_ordered / len(products)) * 100\n",
    "    return total_ordered, percentage_ordered"
   ]
  },
  {
   "cell_type": "code",
   "execution_count": 7,
   "id": "33cc5814-2c4e-4540-a6c2-edffd33f6b5d",
   "metadata": {},
   "outputs": [],
   "source": [
    "def print_order_statistics(order_statistics):\n",
    "    print(f\"Total Products Ordered: {order_statistics[0]}\")\n",
    "    print(f\"Percentage of Unique Products Ordered: {order_statistics[1]:.2f}%\")"
   ]
  },
  {
   "cell_type": "code",
   "execution_count": 45,
   "id": "e6c9776d-af64-4d98-95cb-003f10b64dbb",
   "metadata": {},
   "outputs": [
    {
     "name": "stdin",
     "output_type": "stream",
     "text": [
      "Enter the quantity of t-shirts available:  1\n",
      "Enter the quantity of mugs available:  1\n",
      "Enter the quantity of hats available:  1\n",
      "Enter the quantity of books available:  1\n",
      "Enter the quantity of keychains available:  1\n",
      "How many items would you like to order?  2\n",
      "Insert one of the items: T-shirt, Mug, Hat, Book, Keychain:  mug\n",
      "Insert one of the items: T-shirt, Mug, Hat, Book, Keychain:  hat\n"
     ]
    },
    {
     "name": "stdout",
     "output_type": "stream",
     "text": [
      "Total Products Ordered: 2\n",
      "Percentage of Unique Products Ordered: 40.00%\n"
     ]
    },
    {
     "name": "stdin",
     "output_type": "stream",
     "text": [
      "Enter the price for each item:  10\n",
      "Enter the price for each item:  20\n"
     ]
    },
    {
     "name": "stdout",
     "output_type": "stream",
     "text": [
      "Total Price: 30.0\n",
      "Updated Inventory:\n",
      "t-shirt: 1\n",
      "book: 1\n",
      "keychain: 1\n"
     ]
    }
   ],
   "source": [
    "products = [\"t-shirt\", \"mug\", \"hat\", \"book\", \"keychain\"]\n",
    "\n",
    "# Step 1: Initialize the inventory\n",
    "inventory = initialize_inventory(products)\n",
    "\n",
    "# Step 2: Get customer orders\n",
    "customer_orders = get_customer_orders(products)\n",
    "\n",
    "# Step 3: Update the inventory\n",
    "inventory = update_inventory(customer_orders, inventory)\n",
    "\n",
    "# Step 4: Calculate and print order statistics\n",
    "order_statistics = calculate_order_statistics(customer_orders, products)\n",
    "print_order_statistics(order_statistics)\n",
    "\n",
    "# Step 5: Calculate and print total price\n",
    "total_price = total_price_of_customer(customer_orders)\n",
    "print(f\"Total Price: {total_price}\")\n",
    "\n",
    "# Step 6: Print updated inventory\n",
    "print_updated_inventory(inventory)\n"
   ]
  },
  {
   "cell_type": "code",
   "execution_count": null,
   "id": "8174353f-09ce-48b9-a7b8-00cd7ec7e10a",
   "metadata": {},
   "outputs": [],
   "source": []
  }
 ],
 "metadata": {
  "kernelspec": {
   "display_name": "Python [conda env:base] *",
   "language": "python",
   "name": "conda-base-py"
  },
  "language_info": {
   "codemirror_mode": {
    "name": "ipython",
    "version": 3
   },
   "file_extension": ".py",
   "mimetype": "text/x-python",
   "name": "python",
   "nbconvert_exporter": "python",
   "pygments_lexer": "ipython3",
   "version": "3.11.5"
  }
 },
 "nbformat": 4,
 "nbformat_minor": 5
}
